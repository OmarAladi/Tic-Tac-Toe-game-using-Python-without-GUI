{
 "cells": [
  {
   "cell_type": "markdown",
   "id": "d9480a2a",
   "metadata": {},
   "source": [
    "# Tic Tac Toe game using Python without a graphical user interface (GUI)"
   ]
  },
  {
   "cell_type": "code",
   "execution_count": 1,
   "id": "f57ad4dd",
   "metadata": {},
   "outputs": [],
   "source": [
    "body = ['_', '_', '_',\n",
    "        '_', '_', '_',\n",
    "        '_', '_', '_']\n",
    "    \n",
    "current_player = \"X\"\n",
    "winner = None\n",
    "no_winner = True"
   ]
  },
  {
   "cell_type": "code",
   "execution_count": 2,
   "id": "5045d2e4",
   "metadata": {},
   "outputs": [],
   "source": [
    "def tic_tac_toe_body(body):\n",
    "    \"\"\"\n",
    "    Function to print the game board to the console.\n",
    "    This function take the game board as a parameter.\n",
    "    \"\"\"\n",
    "    print(body[0] + ' | ' + body[1] + ' | ' + body[2])\n",
    "    print('----------')\n",
    "    print(body[3] + ' | ' + body[4] + ' | ' + body[5])\n",
    "    print('----------')\n",
    "    print(body[6] + ' | ' + body[7] + ' | ' + body[8])"
   ]
  },
  {
   "cell_type": "code",
   "execution_count": 3,
   "id": "593e33ff",
   "metadata": {},
   "outputs": [],
   "source": [
    "def playing(body):\n",
    "    \"\"\"\n",
    "    Function to handle player moves.\n",
    "    This function take the game board as a parameter.\n",
    "    \"\"\"\n",
    "    global current_player\n",
    "    try:\n",
    "        play = input(f\"play {current_player} now, please enter the index of place\")\n",
    "        play = int(play)\n",
    "        if play >= 1 and play <= 9 and body[play-1] == '_':\n",
    "            body[play-1] = current_player\n",
    "            if current_player == 'X':\n",
    "                current_player = 'O'\n",
    "            else:\n",
    "                current_player = 'X'\n",
    "        else:\n",
    "            print(\"Oops, Your game is wrong\")\n",
    "    except:\n",
    "        print(\"Oops, Enter the index of place only\")"
   ]
  },
  {
   "cell_type": "code",
   "execution_count": 4,
   "id": "d19b958f",
   "metadata": {},
   "outputs": [],
   "source": [
    "def check_winner(body):\n",
    "    \"\"\"\n",
    "    Function to check for a win.\n",
    "    This function take the game board as a parameter.\n",
    "    \"\"\"\n",
    "    global winner\n",
    "    global no_winner\n",
    "    # Horizontal\n",
    "    if body[0] == body[1] == body[2] and body[0] != '_':\n",
    "        winner = body[0]\n",
    "    elif body[3] == body[4] == body[5] and body[3] != '_':\n",
    "        winner = body[3]\n",
    "    elif body[6] == body[7] == body[8] and body[6] != '_':\n",
    "        winner = body[6]\n",
    "    # Vertical\n",
    "    elif body[0] == body[3] == body[6] and body[0] != '_':\n",
    "        winner = body[0]\n",
    "    elif body[1] == body[4] == body[7] and body[1] != '_':\n",
    "        winner = body[1]\n",
    "    elif body[2] == body[5] == body[8] and body[2] != '_':\n",
    "        winner = body[2]\n",
    "    # Diameter\n",
    "    elif body[0] == body[4] == body[8] and body[0] != '_':\n",
    "        winner = body[0]\n",
    "    elif body[2] == body[4] == body[6] and body[2] != '_':\n",
    "        winner = body[2]\n",
    "    # finally\n",
    "    if winner != None:\n",
    "        print(f'player {winner} is winner')\n",
    "        no_winner = False\n",
    "        tic_tac_toe_body(body)"
   ]
  },
  {
   "cell_type": "code",
   "execution_count": 5,
   "id": "4677ab51",
   "metadata": {},
   "outputs": [],
   "source": [
    "def check_no_winner(body):\n",
    "    \"\"\"\n",
    "    Function to check for a tie.\n",
    "    This function take the game board as a parameter,\n",
    "    and check if every square on the board has been filled.\n",
    "    \"\"\"\n",
    "    global no_winner\n",
    "    count = 0\n",
    "    for x in body:\n",
    "        if x != '_':\n",
    "            count += 1\n",
    "    if count == 9:\n",
    "        print(\"no winner\")\n",
    "        no_winner = False\n",
    "        tic_tac_toe_body(body)"
   ]
  },
  {
   "cell_type": "code",
   "execution_count": null,
   "id": "eef2f4e7",
   "metadata": {},
   "outputs": [],
   "source": [
    "# main game loop.\n",
    "while no_winner:\n",
    "    tic_tac_toe_body(body)\n",
    "    playing(body)\n",
    "    check_winner(body)\n",
    "    check_no_winner(body)"
   ]
  }
 ],
 "metadata": {
  "kernelspec": {
   "display_name": "Python 3 (ipykernel)",
   "language": "python",
   "name": "python3"
  },
  "language_info": {
   "codemirror_mode": {
    "name": "ipython",
    "version": 3
   },
   "file_extension": ".py",
   "mimetype": "text/x-python",
   "name": "python",
   "nbconvert_exporter": "python",
   "pygments_lexer": "ipython3",
   "version": "3.9.7"
  }
 },
 "nbformat": 4,
 "nbformat_minor": 5
}
